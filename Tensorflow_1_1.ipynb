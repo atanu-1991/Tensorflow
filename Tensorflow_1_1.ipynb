{
  "cells": [
    {
      "cell_type": "markdown",
      "metadata": {
        "id": "R2NDMdQTOfa4"
      },
      "source": [
        "# Tensorflow-2.0 in Action "
      ]
    },
    {
      "cell_type": "markdown",
      "metadata": {
        "id": "mmUZ0_gcOfbb"
      },
      "source": [
        "![title](img/tensorflow1.png)"
      ]
    },
    {
      "cell_type": "markdown",
      "metadata": {
        "id": "tO5v5lCIOfbe"
      },
      "source": [
        "> TensorFlow is an open source software library for high performance numerical computation. Its flexible architecture allows easy deployment of computation across a variety of platforms (CPUs, GPUs, TPUs), and from desktops to clusters of servers to mobile and edge devices.\n",
        "> Originally developed by researchers and engineers from the Google Brain team within Google’s AI organization, it comes with strong support for machine learning and deep learning and the flexible numerical computation core is used across many other scientific domains."
      ]
    },
    {
      "cell_type": "markdown",
      "metadata": {
        "id": "JSyi2_idOfbh"
      },
      "source": [
        "## Why Tensorflow?"
      ]
    },
    {
      "cell_type": "markdown",
      "metadata": {
        "id": "F_VnRATnOfbk"
      },
      "source": [
        "![title](img/comparision.png)"
      ]
    },
    {
      "cell_type": "markdown",
      "metadata": {
        "id": "1me0lbVpOfbq"
      },
      "source": [
        "![title](img/comparision2.png)"
      ]
    },
    {
      "cell_type": "markdown",
      "metadata": {
        "id": "jL34a_olOfbs"
      },
      "source": [
        "## Installation of Tensorflow"
      ]
    },
    {
      "cell_type": "markdown",
      "metadata": {
        "id": "OqEA2RbXOfbu"
      },
      "source": [
        ">TensorFlow is tested and supported on the following 64-bit systems:\n",
        "\n",
        ">1.Ubuntu 16.04 or later\n",
        "\n",
        ">2.Windows 7 or later\n",
        "\n",
        ">3.macOS 10.12.6 (Sierra) or later (no GPU support)\n",
        "\n",
        ">4.Raspbian 9.0 or later"
      ]
    },
    {
      "cell_type": "markdown",
      "metadata": {
        "id": "rrnhO0O_Ofbx"
      },
      "source": [
        "> **pip install tensorflow==2.0.0**\n",
        "\n",
        "> To run from Anaconda Prompt\n",
        "\n",
        "> **!pip install tensorflow==2.0.0**\n",
        "\n",
        "> To run from Jupyter Notebook"
      ]
    },
    {
      "cell_type": "markdown",
      "metadata": {
        "id": "2-6aKZ1iOfby"
      },
      "source": [
        "`Both Tensorflow 2.0 and Keras have been released for four years (Keras was released in March 2015, and Tensorflow was released in November of the same year). The rapid development of deep learning in the past days, we also know some problems of Tensorflow1.x and Keras:`\n",
        "\n",
        "* Using Tensorflow means programming static graphs, which is difficult and inconvenient for programs that are familiar with imperative programming\n",
        "\n",
        "* Tensorflow api is powerful and flexible, but it is more complex, confusing and difficult to use.\n",
        "\n",
        "* Keras api is productive and easy to use, but lacks flexibility for research\n"
      ]
    },
    {
      "cell_type": "markdown",
      "metadata": {
        "id": "xAmoWAIDOfb1"
      },
      "source": [
        "#### Version Check"
      ]
    },
    {
      "cell_type": "code",
      "execution_count": 1,
      "metadata": {
        "id": "k5SkugDUOfb-",
        "outputId": "9b075a34-4bdd-4fd8-b133-b95ba463e77f",
        "colab": {
          "base_uri": "https://localhost:8080/"
        }
      },
      "outputs": [
        {
          "output_type": "stream",
          "name": "stdout",
          "text": [
            "TensorFlow version: 2.11.0\n",
            "Keras version: 2.11.0\n"
          ]
        }
      ],
      "source": [
        "import tensorflow as tf\n",
        "print(\"TensorFlow version: {}\".format(tf.__version__))\n",
        "print(\"Keras version: {}\".format(tf.keras.__version__))"
      ]
    },
    {
      "cell_type": "markdown",
      "metadata": {
        "id": "8vnaln1lOfcL"
      },
      "source": [
        "`Tensorflow2.0 is a combination design of Tensorflow1.x and Keras. Considering user feedback and framework development over the past four years, it largely solves the above problems and will become the future machine learning platform.`\n",
        "\n",
        "> Tensorflow 2.0 is built on the following core ideas:\n",
        "\n",
        "\n",
        "* The coding is more pythonic, so that users can get the results immediately like they are programming in numpy\n",
        "* Retaining the characteristics of static graphs (for performance, distributed, and production deployment), this makes TensorFlow fast, scalable, and ready for production.\n",
        "* Using Keras as a high-level API for deep learning, making Tensorflow easy to use and efficient\n",
        "* Make the entire framework both high-level features (easy to use, efficient, and not flexible) and low-level features (powerful and scalable, not easy to use, but very flexible)"
      ]
    },
    {
      "cell_type": "markdown",
      "metadata": {
        "id": "FcvXSJ23OfcP"
      },
      "source": [
        ">Eager execution is by default in TensorFlow 2.0 and, it needs no special setup.\n",
        ">The following below code can be used to find out whether a CPU or GPU is in use"
      ]
    },
    {
      "cell_type": "markdown",
      "metadata": {
        "id": "791vZgdcOfcQ"
      },
      "source": [
        "### GPU/CPU Check"
      ]
    },
    {
      "cell_type": "code",
      "execution_count": 2,
      "metadata": {
        "scrolled": true,
        "id": "G3BN52i5OfcS",
        "outputId": "55cbd463-7c33-419a-cd04-a936abd331f2",
        "colab": {
          "base_uri": "https://localhost:8080/"
        }
      },
      "outputs": [
        {
          "output_type": "stream",
          "name": "stderr",
          "text": [
            "WARNING:tensorflow:From <ipython-input-2-e16782003dfe>:2: is_gpu_available (from tensorflow.python.framework.test_util) is deprecated and will be removed in a future version.\n",
            "Instructions for updating:\n",
            "Use `tf.config.list_physical_devices('GPU')` instead.\n"
          ]
        },
        {
          "output_type": "stream",
          "name": "stdout",
          "text": [
            "GPU\n",
            "GPU #0?\n",
            "False\n"
          ]
        }
      ],
      "source": [
        "variable = tf.Variable([3, 3])\n",
        "if tf.test.is_gpu_available():\n",
        "    print('GPU')\n",
        "    print('GPU #0?')\n",
        "    print(variable.device.endswith('GPU:0'))\n",
        "else:\n",
        "    print('CPU')"
      ]
    },
    {
      "cell_type": "markdown",
      "metadata": {
        "id": "EIEqrY08OfcU"
      },
      "source": [
        "### Tensor Constant"
      ]
    },
    {
      "cell_type": "code",
      "source": [
        "variable"
      ],
      "metadata": {
        "colab": {
          "base_uri": "https://localhost:8080/"
        },
        "id": "99aUmSP7mINK",
        "outputId": "54e2528e-5f64-47b3-a664-bbb3e2bbfad3"
      },
      "execution_count": 3,
      "outputs": [
        {
          "output_type": "execute_result",
          "data": {
            "text/plain": [
              "<tf.Variable 'Variable:0' shape=(2,) dtype=int32, numpy=array([3, 3], dtype=int32)>"
            ]
          },
          "metadata": {},
          "execution_count": 3
        }
      ]
    },
    {
      "cell_type": "code",
      "source": [
        "type(variable)"
      ],
      "metadata": {
        "colab": {
          "base_uri": "https://localhost:8080/"
        },
        "id": "87xEROBPiV47",
        "outputId": "d207e996-07ac-459c-d74f-aca97e9f995c"
      },
      "execution_count": 4,
      "outputs": [
        {
          "output_type": "execute_result",
          "data": {
            "text/plain": [
              "tensorflow.python.ops.resource_variable_ops.ResourceVariable"
            ]
          },
          "metadata": {},
          "execution_count": 4
        }
      ]
    },
    {
      "cell_type": "code",
      "execution_count": 5,
      "metadata": {
        "id": "gTlXYvW8Ofcc",
        "outputId": "0317a5eb-3186-42db-cce5-ec9ae752186c",
        "colab": {
          "base_uri": "https://localhost:8080/"
        }
      },
      "outputs": [
        {
          "output_type": "execute_result",
          "data": {
            "text/plain": [
              "tensorflow.python.framework.ops.EagerTensor"
            ]
          },
          "metadata": {},
          "execution_count": 5
        }
      ],
      "source": [
        "ineuron = tf.constant(42)\n",
        "type(ineuron)"
      ]
    },
    {
      "cell_type": "code",
      "execution_count": 6,
      "metadata": {
        "id": "v9mubNnZOfcf",
        "outputId": "4825c033-f146-4cf5-bfe9-3e8f29f7ecea",
        "colab": {
          "base_uri": "https://localhost:8080/"
        }
      },
      "outputs": [
        {
          "output_type": "execute_result",
          "data": {
            "text/plain": [
              "42"
            ]
          },
          "metadata": {},
          "execution_count": 6
        }
      ],
      "source": [
        "ineuron.numpy()"
      ]
    },
    {
      "cell_type": "code",
      "source": [
        "ineuron.dtype"
      ],
      "metadata": {
        "colab": {
          "base_uri": "https://localhost:8080/"
        },
        "id": "beco8vsgl-wN",
        "outputId": "0cd181c6-89ec-41f9-edc2-915dc4e00a6e"
      },
      "execution_count": 7,
      "outputs": [
        {
          "output_type": "execute_result",
          "data": {
            "text/plain": [
              "tf.int32"
            ]
          },
          "metadata": {},
          "execution_count": 7
        }
      ]
    },
    {
      "cell_type": "code",
      "source": [
        "ineuron.shape"
      ],
      "metadata": {
        "colab": {
          "base_uri": "https://localhost:8080/"
        },
        "id": "jNzPj11EmPli",
        "outputId": "4676377b-9884-4afe-ab0a-007a9772d14e"
      },
      "execution_count": 8,
      "outputs": [
        {
          "output_type": "execute_result",
          "data": {
            "text/plain": [
              "TensorShape([])"
            ]
          },
          "metadata": {},
          "execution_count": 8
        }
      ]
    },
    {
      "cell_type": "code",
      "execution_count": 9,
      "metadata": {
        "id": "3AAUNn5fOfci",
        "outputId": "f39f68e6-9dcd-48e4-f588-ce932a1bc216",
        "colab": {
          "base_uri": "https://localhost:8080/"
        }
      },
      "outputs": [
        {
          "output_type": "execute_result",
          "data": {
            "text/plain": [
              "<tf.Tensor: shape=(), dtype=int64, numpy=1>"
            ]
          },
          "metadata": {},
          "execution_count": 9
        }
      ],
      "source": [
        "ineuron1 = tf.constant(1, dtype = tf.int64)\n",
        "ineuron1"
      ]
    },
    {
      "cell_type": "code",
      "execution_count": 10,
      "metadata": {
        "id": "Fa7Rgc5EOfcj",
        "outputId": "81e0f28f-3cb7-4841-a714-4e9c908d54c6",
        "colab": {
          "base_uri": "https://localhost:8080/"
        }
      },
      "outputs": [
        {
          "output_type": "stream",
          "name": "stdout",
          "text": [
            "tf.Tensor(\n",
            "[[4 2]\n",
            " [9 5]], shape=(2, 2), dtype=int32)\n"
          ]
        }
      ],
      "source": [
        "ineuron_x = tf.constant([[4,2],[9,5]])\n",
        "print(ineuron_x)"
      ]
    },
    {
      "cell_type": "code",
      "execution_count": 11,
      "metadata": {
        "id": "8mx7glOBOfck",
        "outputId": "c024af00-6b8c-4b76-ab6d-f4c469b72cec",
        "colab": {
          "base_uri": "https://localhost:8080/"
        }
      },
      "outputs": [
        {
          "output_type": "execute_result",
          "data": {
            "text/plain": [
              "array([[4, 2],\n",
              "       [9, 5]], dtype=int32)"
            ]
          },
          "metadata": {},
          "execution_count": 11
        }
      ],
      "source": [
        "ineuron_x.numpy()"
      ]
    },
    {
      "cell_type": "code",
      "execution_count": 12,
      "metadata": {
        "id": "Ich6MJtLOfcl",
        "outputId": "de7c26de-65e7-4093-c833-0eb7fb933f55",
        "colab": {
          "base_uri": "https://localhost:8080/"
        }
      },
      "outputs": [
        {
          "output_type": "stream",
          "name": "stdout",
          "text": [
            "shape: (2, 2)\n",
            "<dtype: 'int32'>\n"
          ]
        }
      ],
      "source": [
        "print('shape:',ineuron_x.shape)\n",
        "print(ineuron_x.dtype)"
      ]
    },
    {
      "cell_type": "markdown",
      "metadata": {
        "id": "bG4DaVsNOfco"
      },
      "source": [
        "#### Commonly used method is to generate constant tf.ones and the tf.zeros like of numpy np.ones & np.zeros"
      ]
    },
    {
      "cell_type": "code",
      "execution_count": 13,
      "metadata": {
        "id": "WZ_qs2bBOfcr",
        "outputId": "54da2366-5574-44b5-f31d-fb114b6817cf",
        "colab": {
          "base_uri": "https://localhost:8080/"
        }
      },
      "outputs": [
        {
          "output_type": "stream",
          "name": "stdout",
          "text": [
            "tf.Tensor(\n",
            "[[1. 1. 1.]\n",
            " [1. 1. 1.]], shape=(2, 3), dtype=float32)\n"
          ]
        }
      ],
      "source": [
        "print(tf.ones(shape=(2,3)))"
      ]
    },
    {
      "cell_type": "code",
      "execution_count": 14,
      "metadata": {
        "id": "A9QyF6S9Ofcw",
        "outputId": "6c21b9f8-1ac2-46c0-fb92-5a76e7983e19",
        "colab": {
          "base_uri": "https://localhost:8080/"
        }
      },
      "outputs": [
        {
          "output_type": "stream",
          "name": "stdout",
          "text": [
            "tf.Tensor(\n",
            "[[0. 0.]\n",
            " [0. 0.]\n",
            " [0. 0.]], shape=(3, 2), dtype=float32)\n"
          ]
        }
      ],
      "source": [
        "print(tf.zeros(shape=(3,2)))"
      ]
    },
    {
      "cell_type": "code",
      "execution_count": 15,
      "metadata": {
        "id": "U9-HR7SDOfcx",
        "outputId": "b96f6f39-08f1-4393-87c2-6e73acb5c54a",
        "colab": {
          "base_uri": "https://localhost:8080/"
        }
      },
      "outputs": [
        {
          "output_type": "stream",
          "name": "stdout",
          "text": [
            "tf.Tensor(\n",
            "[[4 6 8]\n",
            " [4 6 8]], shape=(2, 3), dtype=int32)\n"
          ]
        }
      ],
      "source": [
        "import tensorflow as tf\n",
        "const2 = tf.constant([[3,4,5], [3,4,5]]);tf\n",
        "const1 = tf.constant([[1,2,3], [1,2,3]]);\n",
        "result = tf.add(const1, const2);\n",
        "print(result)"
      ]
    },
    {
      "cell_type": "markdown",
      "metadata": {
        "id": "g4N4_6BEOfcy"
      },
      "source": [
        ">We have defined two constants and we add one value to the other. \n",
        ">As a result, we got a Tensor object with the result of the adding. "
      ]
    },
    {
      "cell_type": "markdown",
      "metadata": {
        "id": "fmb2fPl6Ofcz"
      },
      "source": [
        "#### Random constant"
      ]
    },
    {
      "cell_type": "code",
      "execution_count": 16,
      "metadata": {
        "id": "PiX4Imp4Ofcz",
        "outputId": "0cb83728-6a5c-43d8-c121-06a79c3e88b0",
        "colab": {
          "base_uri": "https://localhost:8080/"
        }
      },
      "outputs": [
        {
          "output_type": "execute_result",
          "data": {
            "text/plain": [
              "<tf.Tensor: shape=(2, 2), dtype=float32, numpy=\n",
              "array([[ 0.11143883, -1.2921705 ],\n",
              "       [-0.15593928,  0.06588898]], dtype=float32)>"
            ]
          },
          "metadata": {},
          "execution_count": 16
        }
      ],
      "source": [
        "tf.random.normal(shape=(2,2),mean=0,stddev=1.0)"
      ]
    },
    {
      "cell_type": "code",
      "execution_count": 17,
      "metadata": {
        "id": "fgt7QHN9Ofc0",
        "outputId": "84b60798-c9f5-4764-a456-aea0f388f4a1",
        "colab": {
          "base_uri": "https://localhost:8080/"
        }
      },
      "outputs": [
        {
          "output_type": "execute_result",
          "data": {
            "text/plain": [
              "<tf.Tensor: shape=(2, 2), dtype=int32, numpy=\n",
              "array([[9, 8],\n",
              "       [2, 5]], dtype=int32)>"
            ]
          },
          "metadata": {},
          "execution_count": 17
        }
      ],
      "source": [
        "tf.random.uniform(shape=(2,2),minval=0,maxval=10,dtype=tf.int32)"
      ]
    },
    {
      "cell_type": "code",
      "execution_count": 17,
      "metadata": {
        "id": "bTPWrbNROfc2"
      },
      "outputs": [],
      "source": []
    },
    {
      "cell_type": "markdown",
      "metadata": {
        "id": "mRSla6q8Ofc4"
      },
      "source": [
        "### Variables"
      ]
    },
    {
      "cell_type": "markdown",
      "metadata": {
        "id": "9HT-aUMMOfc7"
      },
      "source": [
        ">A variable is a special tensor that is used to store variable values ​​and needs to be initialized with some values"
      ]
    },
    {
      "cell_type": "markdown",
      "metadata": {
        "id": "PLJIB0KYOfc9"
      },
      "source": [
        "#### Declaring variables"
      ]
    },
    {
      "cell_type": "code",
      "execution_count": 18,
      "metadata": {
        "id": "VRvzgfzdOfc-",
        "outputId": "0c940841-b288-4f3f-cd43-b56a0106a094",
        "colab": {
          "base_uri": "https://localhost:8080/"
        }
      },
      "outputs": [
        {
          "output_type": "execute_result",
          "data": {
            "text/plain": [
              "(24,\n",
              " <tf.Variable 'Variable:0' shape=() dtype=int32, numpy=42>,\n",
              " <tf.Variable 'Variable:0' shape=(2, 2, 3) dtype=float32, numpy=\n",
              " array([[[ 0.,  1.,  2.],\n",
              "         [ 3.,  4.,  5.]],\n",
              " \n",
              "        [[ 6.,  7.,  8.],\n",
              "         [ 9., 10., 11.]]], dtype=float32)>)"
            ]
          },
          "metadata": {},
          "execution_count": 18
        }
      ],
      "source": [
        "var0 = 24 # python variable\n",
        "var1 = tf.Variable(42) # rank 0 tensor\n",
        "var2 = tf.Variable([ [ [0., 1., 2.], [3., 4., 5.] ], [ [6., 7., 8.], [9., 10., 11.] ] ]) #rank 3 tensor\n",
        "var0, var1, var2"
      ]
    },
    {
      "cell_type": "markdown",
      "metadata": {
        "id": "nmcYLqo5Ofc_"
      },
      "source": [
        ">TensorFlow will infer the datatype, defaulting to tf.float32 for floats and tf.int32 for integers"
      ]
    },
    {
      "cell_type": "markdown",
      "metadata": {
        "id": "nfH6LoieOfdA"
      },
      "source": [
        "#### The datatype can be explicitly specified"
      ]
    },
    {
      "cell_type": "code",
      "execution_count": 19,
      "metadata": {
        "id": "4jKoSXgmOfdA",
        "outputId": "9a83e230-c41f-4344-ee65-bc1829022587",
        "colab": {
          "base_uri": "https://localhost:8080/"
        }
      },
      "outputs": [
        {
          "output_type": "execute_result",
          "data": {
            "text/plain": [
              "tf.float64"
            ]
          },
          "metadata": {},
          "execution_count": 19
        }
      ],
      "source": [
        "float_var64 = tf.Variable(89, dtype = tf.float64)\n",
        "float_var64.dtype"
      ]
    },
    {
      "cell_type": "markdown",
      "metadata": {
        "id": "COKsewvrOfdB"
      },
      "source": [
        "`TensorFlow has a large number of built-in datatypes.`\n",
        "* tf.float16: 16-bit half-precision floating-point.\n",
        "* tf.float32: 32-bit single-precision floating-point.\n",
        "* tf.float64: 64-bit double-precision floating-point.\n",
        "* tf.bfloat16: 16-bit truncated floating-point.\n",
        "* tf.complex64: 64-bit single-precision complex.\n",
        "* tf.complex128: 128-bit double-precision complex.\n",
        "* tf.int8: 8-bit signed integer.\n",
        "* tf.uint8: 8-bit unsigned integer.\n",
        "* tf.uint16: 16-bit unsigned integer.\n",
        "* tf.uint32: 32-bit unsigned integer.\n",
        "* tf.uint64: 64-bit unsigned integer.\n",
        "* tf.int16: 16-bit signed integer.\n",
        "* tf.int32: 32-bit signed integer.\n",
        "* tf.int64: 64-bit signed integer.\n",
        "* tf.bool: Boolean.\n",
        "* tf.string: String.\n",
        "* tf.qint8: Quantized 8-bit signed integer.\n",
        "* tf.quint8: Quantized 8-bit unsigned integer.\n",
        "* tf.qint16: Quantized 16-bit signed integer.\n",
        "* tf.quint16: Quantized 16-bit unsigned integer.\n",
        "* tf.qint32: Quantized 32-bit signed integer.\n",
        "* tf.resource: Handle to a mutable resource.\n",
        "* tf.variant: Values of arbitrary types.\n"
      ]
    },
    {
      "cell_type": "markdown",
      "metadata": {
        "id": "z8PNzB9wOfdC"
      },
      "source": [
        "#### To reassign a variable, use var.assign()"
      ]
    },
    {
      "cell_type": "code",
      "execution_count": 20,
      "metadata": {
        "id": "cIpaHyhpOfdC",
        "outputId": "20f54666-a8fa-4d89-a139-c40f49139cd4",
        "colab": {
          "base_uri": "https://localhost:8080/"
        }
      },
      "outputs": [
        {
          "output_type": "execute_result",
          "data": {
            "text/plain": [
              "<tf.Variable 'Variable:0' shape=() dtype=float32, numpy=89.0>"
            ]
          },
          "metadata": {},
          "execution_count": 20
        }
      ],
      "source": [
        "var_reassign = tf.Variable(89.)\n",
        "var_reassign"
      ]
    },
    {
      "cell_type": "code",
      "source": [
        "type(var_reassign)"
      ],
      "metadata": {
        "colab": {
          "base_uri": "https://localhost:8080/"
        },
        "id": "_HdIwxLWqLAs",
        "outputId": "f623a605-65b7-40a7-e366-7068a1e1ec1b"
      },
      "execution_count": 21,
      "outputs": [
        {
          "output_type": "execute_result",
          "data": {
            "text/plain": [
              "tensorflow.python.ops.resource_variable_ops.ResourceVariable"
            ]
          },
          "metadata": {},
          "execution_count": 21
        }
      ]
    },
    {
      "cell_type": "code",
      "execution_count": 22,
      "metadata": {
        "id": "cQ__kVr0OfdD",
        "outputId": "9fbd3f35-abac-427d-cc89-67e923e1ea40",
        "colab": {
          "base_uri": "https://localhost:8080/"
        }
      },
      "outputs": [
        {
          "output_type": "execute_result",
          "data": {
            "text/plain": [
              "<tf.Variable 'Variable:0' shape=() dtype=float32, numpy=98.0>"
            ]
          },
          "metadata": {},
          "execution_count": 22
        }
      ],
      "source": [
        "var_reassign.assign(98.)\n",
        "var_reassign"
      ]
    },
    {
      "cell_type": "code",
      "execution_count": 23,
      "metadata": {
        "id": "WvnVLgqaOfdE",
        "outputId": "7aad6afe-aebf-43d0-f3df-650085b4ac96",
        "colab": {
          "base_uri": "https://localhost:8080/"
        }
      },
      "outputs": [
        {
          "output_type": "stream",
          "name": "stdout",
          "text": [
            "<tf.Variable 'Variable:0' shape=(2, 2) dtype=float32, numpy=\n",
            "array([[ 0.20591408, -1.6965824 ],\n",
            "       [-1.318267  , -0.17015561]], dtype=float32)>\n"
          ]
        }
      ],
      "source": [
        "initial_value = tf.random.normal(shape=(2,2))\n",
        "a = tf.Variable(initial_value)\n",
        "print(a)"
      ]
    },
    {
      "cell_type": "markdown",
      "metadata": {
        "id": "xH2b8XBfOfdF"
      },
      "source": [
        ">We can assign \"=\" with assign (value), or assign_add (value) with \"+ =\", or assign_sub (value) with \"-=\""
      ]
    },
    {
      "cell_type": "code",
      "execution_count": 24,
      "metadata": {
        "id": "ElLj-YhHOfdF"
      },
      "outputs": [],
      "source": [
        "new_value = tf.random.normal(shape=(2, 2))\n",
        "a.assign(new_value)\n",
        "for i in range(2):\n",
        "    for j in range(2):\n",
        "        assert a[i, j] == new_value[i, j]"
      ]
    },
    {
      "cell_type": "code",
      "execution_count": 25,
      "metadata": {
        "id": "4GqCGhdKOfdG"
      },
      "outputs": [],
      "source": [
        "added_value = tf.random.normal(shape=(2,2))\n",
        "a.assign_add(added_value)\n",
        "for i in range(2):\n",
        "    for j in range(2):\n",
        "        assert a[i,j] == new_value[i,j]+added_value[i,j]"
      ]
    },
    {
      "cell_type": "markdown",
      "metadata": {
        "id": "Q9AFTQZmOfdH"
      },
      "source": [
        "#### Shaping a tensor"
      ]
    },
    {
      "cell_type": "code",
      "execution_count": 26,
      "metadata": {
        "id": "bVSMe71fOfdI",
        "outputId": "77f58fd0-66db-4f13-e0d0-cf5d2f27ca70",
        "colab": {
          "base_uri": "https://localhost:8080/"
        }
      },
      "outputs": [
        {
          "output_type": "stream",
          "name": "stdout",
          "text": [
            "(2, 2, 3)\n"
          ]
        }
      ],
      "source": [
        "tensor = tf.Variable([ [ [10., 11., 12.], [13., 14., 15.] ], [ [16., 17., 18.], [19., 20., 21.] ] ]) # tensor variable\n",
        "print(tensor.shape)"
      ]
    },
    {
      "cell_type": "markdown",
      "metadata": {
        "id": "zSAqWOHSOfdI"
      },
      "source": [
        "#### Tensors can be reshaped and retain the same values which is required for constructing Neural networks."
      ]
    },
    {
      "cell_type": "code",
      "execution_count": 27,
      "metadata": {
        "id": "tILZ7wa5OfdJ",
        "outputId": "541fab21-84ee-44a8-a4fe-8cd2cb48c510",
        "colab": {
          "base_uri": "https://localhost:8080/"
        }
      },
      "outputs": [
        {
          "output_type": "execute_result",
          "data": {
            "text/plain": [
              "<tf.Tensor: shape=(2, 6), dtype=float32, numpy=\n",
              "array([[10., 11., 12., 13., 14., 15.],\n",
              "       [16., 17., 18., 19., 20., 21.]], dtype=float32)>"
            ]
          },
          "metadata": {},
          "execution_count": 27
        }
      ],
      "source": [
        "tensor1 = tf.reshape(tensor,[2,6]) # 2 rows 6 cols\n",
        "#tensor2 = tf.reshape(tensor,[1,12]) # 1 rows 12 cols\n",
        "tensor1"
      ]
    },
    {
      "cell_type": "code",
      "source": [
        "print(tensor1.shape)"
      ],
      "metadata": {
        "colab": {
          "base_uri": "https://localhost:8080/"
        },
        "id": "VAAHCbR9sZN9",
        "outputId": "5a2db1b6-baf0-4336-8823-dde64420030f"
      },
      "execution_count": 28,
      "outputs": [
        {
          "output_type": "stream",
          "name": "stdout",
          "text": [
            "(2, 6)\n"
          ]
        }
      ]
    },
    {
      "cell_type": "code",
      "execution_count": 29,
      "metadata": {
        "id": "l3RXssKuOfdJ",
        "outputId": "8357517a-45ef-4394-df09-d3617f07d2e9",
        "colab": {
          "base_uri": "https://localhost:8080/"
        }
      },
      "outputs": [
        {
          "output_type": "execute_result",
          "data": {
            "text/plain": [
              "<tf.Tensor: shape=(1, 12), dtype=float32, numpy=\n",
              "array([[10., 11., 12., 13., 14., 15., 16., 17., 18., 19., 20., 21.]],\n",
              "      dtype=float32)>"
            ]
          },
          "metadata": {},
          "execution_count": 29
        }
      ],
      "source": [
        "tensor2 = tf.reshape(tensor,[1,12]) # 1 row 12 columns\n",
        "tensor2"
      ]
    },
    {
      "cell_type": "markdown",
      "metadata": {
        "id": "7aEExpmsOfeB"
      },
      "source": [
        "### Rank of a tensor"
      ]
    },
    {
      "cell_type": "markdown",
      "metadata": {
        "id": "Y7_zeR38OfeD"
      },
      "source": [
        ">The rank of a tensor is defined as the number of dimensions, which is the number of indices that are required to specify any particular element of that tensor."
      ]
    },
    {
      "cell_type": "code",
      "source": [
        "tensor"
      ],
      "metadata": {
        "colab": {
          "base_uri": "https://localhost:8080/"
        },
        "id": "VuBTrJdOsmIl",
        "outputId": "5cef2f21-05f8-436f-f254-dc8909c609a8"
      },
      "execution_count": 30,
      "outputs": [
        {
          "output_type": "execute_result",
          "data": {
            "text/plain": [
              "<tf.Variable 'Variable:0' shape=(2, 2, 3) dtype=float32, numpy=\n",
              "array([[[10., 11., 12.],\n",
              "        [13., 14., 15.]],\n",
              "\n",
              "       [[16., 17., 18.],\n",
              "        [19., 20., 21.]]], dtype=float32)>"
            ]
          },
          "metadata": {},
          "execution_count": 30
        }
      ]
    },
    {
      "cell_type": "code",
      "execution_count": 31,
      "metadata": {
        "id": "JQLb19oTOfeF",
        "outputId": "7c8b800f-629a-46fa-8fa1-06b590817110",
        "colab": {
          "base_uri": "https://localhost:8080/"
        }
      },
      "outputs": [
        {
          "output_type": "execute_result",
          "data": {
            "text/plain": [
              "<tf.Tensor: shape=(), dtype=int32, numpy=3>"
            ]
          },
          "metadata": {},
          "execution_count": 31
        }
      ],
      "source": [
        "tf.rank(tensor)"
      ]
    },
    {
      "cell_type": "markdown",
      "metadata": {
        "id": "rYvIUyZROfeJ"
      },
      "source": [
        ">(the shape is () because the output here is a scalar value)"
      ]
    },
    {
      "cell_type": "markdown",
      "metadata": {
        "id": "0rcAsN-8OfeL"
      },
      "source": [
        "#### Specifying an element of a tensor"
      ]
    },
    {
      "cell_type": "code",
      "execution_count": 32,
      "metadata": {
        "id": "106GIuTsOfeL",
        "outputId": "1c9fd90f-8e6b-4944-b8e0-28e2661ebfd1",
        "colab": {
          "base_uri": "https://localhost:8080/"
        }
      },
      "outputs": [
        {
          "output_type": "execute_result",
          "data": {
            "text/plain": [
              "<tf.Tensor: shape=(), dtype=float32, numpy=18.0>"
            ]
          },
          "metadata": {},
          "execution_count": 32
        }
      ],
      "source": [
        "tensor3 = tensor[1, 0, 2] # slice 1, row 0, column 2\n",
        "tensor3"
      ]
    },
    {
      "cell_type": "markdown",
      "metadata": {
        "id": "z6VLX-twOfeg"
      },
      "source": [
        "#### Casting a tensor to a NumPy variable"
      ]
    },
    {
      "cell_type": "code",
      "execution_count": 33,
      "metadata": {
        "id": "6C5guSWYOfeo",
        "outputId": "28daf815-8a4a-4464-ec7f-bd15247b0443",
        "colab": {
          "base_uri": "https://localhost:8080/"
        }
      },
      "outputs": [
        {
          "output_type": "stream",
          "name": "stdout",
          "text": [
            "[[[10. 11. 12.]\n",
            "  [13. 14. 15.]]\n",
            "\n",
            " [[16. 17. 18.]\n",
            "  [19. 20. 21.]]]\n"
          ]
        }
      ],
      "source": [
        "print(tensor.numpy())"
      ]
    },
    {
      "cell_type": "code",
      "source": [
        "print(type(tensor.numpy()))"
      ],
      "metadata": {
        "colab": {
          "base_uri": "https://localhost:8080/"
        },
        "id": "ZX6stxPgtZCy",
        "outputId": "b577dd8c-42ef-4367-952d-dc639742e644"
      },
      "execution_count": 34,
      "outputs": [
        {
          "output_type": "stream",
          "name": "stdout",
          "text": [
            "<class 'numpy.ndarray'>\n"
          ]
        }
      ]
    },
    {
      "cell_type": "code",
      "execution_count": 35,
      "metadata": {
        "id": "8Ig_LhVlOfer",
        "outputId": "0448f835-6b5f-4bb3-d308-c65ad05fa87f",
        "colab": {
          "base_uri": "https://localhost:8080/"
        }
      },
      "outputs": [
        {
          "output_type": "stream",
          "name": "stdout",
          "text": [
            "18.0\n"
          ]
        }
      ],
      "source": [
        "print(tensor[1, 0, 2].numpy())"
      ]
    },
    {
      "cell_type": "markdown",
      "metadata": {
        "id": "CORqkF8bOfeu"
      },
      "source": [
        "#### Finding the size or length of a tensor"
      ]
    },
    {
      "cell_type": "code",
      "execution_count": 36,
      "metadata": {
        "id": "Ie_rueeNOfe6",
        "outputId": "756da8d9-b482-4eb6-8772-958c7598b007",
        "colab": {
          "base_uri": "https://localhost:8080/"
        }
      },
      "outputs": [
        {
          "output_type": "execute_result",
          "data": {
            "text/plain": [
              "12"
            ]
          },
          "metadata": {},
          "execution_count": 36
        }
      ],
      "source": [
        "tensor_size = tf.size(input=tensor).numpy()\n",
        "tensor_size"
      ]
    },
    {
      "cell_type": "code",
      "execution_count": 37,
      "metadata": {
        "id": "MPGg-nv-Ofe-",
        "outputId": "112136b9-38a0-4302-c42a-0c98b358c151",
        "colab": {
          "base_uri": "https://localhost:8080/"
        }
      },
      "outputs": [
        {
          "output_type": "execute_result",
          "data": {
            "text/plain": [
              "tf.float32"
            ]
          },
          "metadata": {},
          "execution_count": 37
        }
      ],
      "source": [
        "#the datatype of a tensor\n",
        "tensor3.dtype"
      ]
    },
    {
      "cell_type": "markdown",
      "metadata": {
        "id": "Vt7t3-3lOffF"
      },
      "source": [
        "### Tensorflow mathematical operations\n",
        ">Can be used as numpy for artificial operations. Tensorflow can not execute these operations on the GPU or TPU.\n"
      ]
    },
    {
      "cell_type": "code",
      "execution_count": 38,
      "metadata": {
        "id": "dsC5bOXOOffI",
        "outputId": "104ec9e1-a0b8-4b1f-ed7b-11f705464b06",
        "colab": {
          "base_uri": "https://localhost:8080/"
        }
      },
      "outputs": [
        {
          "output_type": "stream",
          "name": "stdout",
          "text": [
            "tf.Tensor(\n",
            "[[-0.5189267  -0.9635453 ]\n",
            " [-0.04750615 -0.97197026]], shape=(2, 2), dtype=float32)\n",
            "tf.Tensor(\n",
            "[[ 0.0606637  -0.71593624]\n",
            " [-0.4525994  -1.3845032 ]], shape=(2, 2), dtype=float32)\n",
            "tf.Tensor(\n",
            "[[-0.45826298 -1.6794815 ]\n",
            " [-0.50010556 -2.3564734 ]], shape=(2, 2), dtype=float32)\n",
            "tf.Tensor(\n",
            "[[0.21000496 2.8206582 ]\n",
            " [0.25010556 5.552967  ]], shape=(2, 2), dtype=float32)\n",
            "tf.Tensor(\n",
            "[[0.63238114 0.18647063]\n",
            " [0.60646665 0.09475379]], shape=(2, 2), dtype=float32)\n"
          ]
        }
      ],
      "source": [
        "a = tf.random.normal(shape=(2,2))\n",
        "b = tf.random.normal(shape=(2,2))\n",
        "c = a + b\n",
        "d = tf.square(c)\n",
        "e = tf.exp(c)\n",
        "print(a)\n",
        "print(b)\n",
        "print(c)\n",
        "print(d)\n",
        "print(e)"
      ]
    },
    {
      "cell_type": "markdown",
      "metadata": {
        "id": "QS1vbp5BOffL"
      },
      "source": [
        "### Performing element-wise primitive tensor operations"
      ]
    },
    {
      "cell_type": "code",
      "source": [
        "tensor"
      ],
      "metadata": {
        "colab": {
          "base_uri": "https://localhost:8080/"
        },
        "id": "1PvOHg93u6AL",
        "outputId": "0c792478-277f-40d0-f7a9-40cb3e15ff84"
      },
      "execution_count": 39,
      "outputs": [
        {
          "output_type": "execute_result",
          "data": {
            "text/plain": [
              "<tf.Variable 'Variable:0' shape=(2, 2, 3) dtype=float32, numpy=\n",
              "array([[[10., 11., 12.],\n",
              "        [13., 14., 15.]],\n",
              "\n",
              "       [[16., 17., 18.],\n",
              "        [19., 20., 21.]]], dtype=float32)>"
            ]
          },
          "metadata": {},
          "execution_count": 39
        }
      ]
    },
    {
      "cell_type": "code",
      "execution_count": 40,
      "metadata": {
        "id": "fwKCidz2OffV",
        "outputId": "c72e982d-1244-4024-d49f-2b2bfd797d2f",
        "colab": {
          "base_uri": "https://localhost:8080/"
        }
      },
      "outputs": [
        {
          "output_type": "execute_result",
          "data": {
            "text/plain": [
              "<tf.Tensor: shape=(2, 2, 3), dtype=float32, numpy=\n",
              "array([[[100., 121., 144.],\n",
              "        [169., 196., 225.]],\n",
              "\n",
              "       [[256., 289., 324.],\n",
              "        [361., 400., 441.]]], dtype=float32)>"
            ]
          },
          "metadata": {},
          "execution_count": 40
        }
      ],
      "source": [
        "tensor*tensor"
      ]
    },
    {
      "cell_type": "markdown",
      "metadata": {
        "id": "9Nhn9LKXOffX"
      },
      "source": [
        "### Broadcasting in Tensorflow\n",
        "\n",
        ">Element-wise tensor operations support broadcasting in the same way that NumPy arrays do.\n",
        "\n",
        ">The simplest example is multiplication of  a tensor by a scalar value."
      ]
    },
    {
      "cell_type": "code",
      "execution_count": 41,
      "metadata": {
        "id": "vdbgyEKeOffZ",
        "outputId": "67e8ae3f-4a44-4026-9f22-7b03c0553dd7",
        "colab": {
          "base_uri": "https://localhost:8080/"
        }
      },
      "outputs": [
        {
          "output_type": "stream",
          "name": "stdout",
          "text": [
            "tf.Tensor(\n",
            "[[[40. 44. 48.]\n",
            "  [52. 56. 60.]]\n",
            "\n",
            " [[64. 68. 72.]\n",
            "  [76. 80. 84.]]], shape=(2, 2, 3), dtype=float32)\n"
          ]
        }
      ],
      "source": [
        "tensor4 = tensor*4\n",
        "print(tensor4)"
      ]
    },
    {
      "cell_type": "markdown",
      "metadata": {
        "id": "ys11sIxTOffd"
      },
      "source": [
        "### Transpose Matrix multiplication"
      ]
    },
    {
      "cell_type": "code",
      "execution_count": 42,
      "metadata": {
        "id": "bP3apZPSOfff",
        "outputId": "679f08a3-fc57-410e-e58c-88dc0633190c",
        "colab": {
          "base_uri": "https://localhost:8080/"
        }
      },
      "outputs": [
        {
          "output_type": "execute_result",
          "data": {
            "text/plain": [
              "<tf.Tensor: shape=(1, 1), dtype=int32, numpy=array([[64]], dtype=int32)>"
            ]
          },
          "metadata": {},
          "execution_count": 42
        }
      ],
      "source": [
        "matrix_u = tf.constant([[6,7,6]])\n",
        "matrix_v = tf.constant([[3,4,3]])\n",
        "tf.matmul(matrix_u, tf.transpose(a=matrix_v))"
      ]
    },
    {
      "cell_type": "markdown",
      "metadata": {
        "id": "1oNaI03cOffh"
      },
      "source": [
        "### Casting a tensor to another datatype"
      ]
    },
    {
      "cell_type": "code",
      "source": [
        "tensor1"
      ],
      "metadata": {
        "colab": {
          "base_uri": "https://localhost:8080/"
        },
        "id": "LnOa-C7Dwe3x",
        "outputId": "97f181be-19f9-4033-82c0-9b962fa06bd9"
      },
      "execution_count": 43,
      "outputs": [
        {
          "output_type": "execute_result",
          "data": {
            "text/plain": [
              "<tf.Tensor: shape=(2, 6), dtype=float32, numpy=\n",
              "array([[10., 11., 12., 13., 14., 15.],\n",
              "       [16., 17., 18., 19., 20., 21.]], dtype=float32)>"
            ]
          },
          "metadata": {},
          "execution_count": 43
        }
      ]
    },
    {
      "cell_type": "code",
      "execution_count": 44,
      "metadata": {
        "id": "nX15JrVUOffk",
        "outputId": "21e9ed75-0d80-4ae1-931e-b054e3c43a94",
        "colab": {
          "base_uri": "https://localhost:8080/"
        }
      },
      "outputs": [
        {
          "output_type": "execute_result",
          "data": {
            "text/plain": [
              "<tf.Tensor: shape=(2, 6), dtype=int32, numpy=\n",
              "array([[10, 11, 12, 13, 14, 15],\n",
              "       [16, 17, 18, 19, 20, 21]], dtype=int32)>"
            ]
          },
          "metadata": {},
          "execution_count": 44
        }
      ],
      "source": [
        "i = tf.cast(tensor1, dtype=tf.int32)\n",
        "i"
      ]
    },
    {
      "cell_type": "markdown",
      "metadata": {
        "id": "mcGXRGUoOff8"
      },
      "source": [
        "##### Casting with truncation"
      ]
    },
    {
      "cell_type": "code",
      "execution_count": 45,
      "metadata": {
        "id": "vjIWjJFeOfgG",
        "outputId": "a973220a-0669-4ecd-b221-d67356e08318",
        "colab": {
          "base_uri": "https://localhost:8080/"
        }
      },
      "outputs": [
        {
          "output_type": "execute_result",
          "data": {
            "text/plain": [
              "<tf.Tensor: shape=(), dtype=int32, numpy=5>"
            ]
          },
          "metadata": {},
          "execution_count": 45
        }
      ],
      "source": [
        "j = tf.cast(tf.constant(5.9), dtype=tf.int32)\n",
        "j"
      ]
    },
    {
      "cell_type": "markdown",
      "metadata": {
        "id": "DZhSYJH3OfgI"
      },
      "source": [
        "###  Ragged tensors"
      ]
    },
    {
      "cell_type": "markdown",
      "metadata": {
        "id": "Gp3LPrD5OfgM"
      },
      "source": [
        "`A ragged tensor is a tensor having one or more ragged dimensions. Ragged dimensions are dimensions that have slices having various lengths.There are a variety of methods for the declaration of ragged arrays, the simplest way is declaring a constant ragged array.`"
      ]
    },
    {
      "cell_type": "markdown",
      "metadata": {
        "id": "jxb6xwkrOfgN"
      },
      "source": [
        "#### Below example shows how to declare a constant ragged array"
      ]
    },
    {
      "cell_type": "code",
      "execution_count": 46,
      "metadata": {
        "id": "1TYf7RpyOfgO",
        "outputId": "1326540b-432e-4940-9dbe-d984870e32ce",
        "colab": {
          "base_uri": "https://localhost:8080/"
        }
      },
      "outputs": [
        {
          "output_type": "stream",
          "name": "stdout",
          "text": [
            "<tf.RaggedTensor [[9, 7, 4, 3], [], [11, 12, 8], [3], [7, 8]]>\n",
            "tf.Tensor([9 7 4 3], shape=(4,), dtype=int32)\n",
            "tf.Tensor([], shape=(0,), dtype=int32)\n",
            "tf.Tensor([11 12  8], shape=(3,), dtype=int32)\n",
            "tf.Tensor([3], shape=(1,), dtype=int32)\n",
            "tf.Tensor([7 8], shape=(2,), dtype=int32)\n"
          ]
        }
      ],
      "source": [
        "ragged =tf.ragged.constant([[9, 7, 4, 3], [], [11, 12, 8], [3], [7,8]])\n",
        "print(ragged)\n",
        "print(ragged[0,:])\n",
        "print(ragged[1,:])\n",
        "print(ragged[2,:])\n",
        "print(ragged[3,:])\n",
        "print(ragged[4,:])"
      ]
    },
    {
      "cell_type": "markdown",
      "metadata": {
        "id": "kUlXmDFEOfgS"
      },
      "source": [
        "### Squared difference of tensors"
      ]
    },
    {
      "cell_type": "code",
      "execution_count": 47,
      "metadata": {
        "id": "AjkvHfijOfgV",
        "outputId": "ae632e2a-5bfe-448f-8af9-97c36297f5ce",
        "colab": {
          "base_uri": "https://localhost:8080/"
        }
      },
      "outputs": [
        {
          "output_type": "execute_result",
          "data": {
            "text/plain": [
              "<tf.Tensor: shape=(5,), dtype=int32, numpy=array([16,  9,  4, 49, 36], dtype=int32)>"
            ]
          },
          "metadata": {},
          "execution_count": 47
        }
      ],
      "source": [
        "varx = [4,5,6,1,2]\n",
        "vary = 8\n",
        "varz = tf.math.squared_difference(varx,vary)\n",
        "varz"
      ]
    },
    {
      "cell_type": "markdown",
      "metadata": {
        "id": "P9ViZbApOfga"
      },
      "source": [
        "#### Calculate the mean"
      ]
    },
    {
      "cell_type": "markdown",
      "metadata": {
        "id": "1WYQdacgOfgb"
      },
      "source": [
        ">Function available\n",
        ">tf.reduce_mean()."
      ]
    },
    {
      "cell_type": "markdown",
      "metadata": {
        "id": "p94e14OXOfgf"
      },
      "source": [
        "`Similar to np.mean, except that it infers the return datatype from the input tensor, whereas np.mean allows you to specify the output type`\n",
        "\n",
        "`tf.reduce_mean(input_tensor, axis=None, keepdims=None, name=None)`"
      ]
    },
    {
      "cell_type": "code",
      "execution_count": 48,
      "metadata": {
        "id": "Zv0wTxaDOfgg",
        "colab": {
          "base_uri": "https://localhost:8080/"
        },
        "outputId": "09131d22-d330-46e8-fa74-19711d83818d"
      },
      "outputs": [
        {
          "output_type": "execute_result",
          "data": {
            "text/plain": [
              "<tf.Tensor: shape=(2, 2), dtype=float32, numpy=\n",
              "array([[8., 9.],\n",
              "       [1., 2.]], dtype=float32)>"
            ]
          },
          "metadata": {},
          "execution_count": 48
        }
      ],
      "source": [
        "# Defining a constant\n",
        "numbers = tf.constant([[8., 9.], [1., 2.]])\n",
        "numbers"
      ]
    },
    {
      "cell_type": "markdown",
      "metadata": {
        "id": "Yqw1RRgAOfgi"
      },
      "source": [
        "#### Calculate the mean across all axes"
      ]
    },
    {
      "cell_type": "code",
      "execution_count": 49,
      "metadata": {
        "id": "Dpl4MKZgOfhQ",
        "outputId": "aeb8a04b-5b2d-4913-af62-41eb0f4a5f90",
        "colab": {
          "base_uri": "https://localhost:8080/"
        }
      },
      "outputs": [
        {
          "output_type": "execute_result",
          "data": {
            "text/plain": [
              "<tf.Tensor: shape=(), dtype=float32, numpy=5.0>"
            ]
          },
          "metadata": {},
          "execution_count": 49
        }
      ],
      "source": [
        "tf.reduce_mean(input_tensor=numbers) #default axis = None"
      ]
    },
    {
      "cell_type": "markdown",
      "metadata": {
        "id": "fVyEdabFOfhT"
      },
      "source": [
        "#### Calculate the mean across columns (reduce rows) with this:"
      ]
    },
    {
      "cell_type": "code",
      "execution_count": 50,
      "metadata": {
        "id": "mAWvZKMZOfhV",
        "outputId": "4ab20232-0f74-4961-c579-674c75527885",
        "colab": {
          "base_uri": "https://localhost:8080/"
        }
      },
      "outputs": [
        {
          "output_type": "execute_result",
          "data": {
            "text/plain": [
              "<tf.Tensor: shape=(2,), dtype=float32, numpy=array([4.5, 5.5], dtype=float32)>"
            ]
          },
          "metadata": {},
          "execution_count": 50
        }
      ],
      "source": [
        "tf.reduce_mean(input_tensor=numbers, axis=0)"
      ]
    },
    {
      "cell_type": "markdown",
      "metadata": {
        "id": "nnWsPkM5OfhZ"
      },
      "source": [
        "#### When keepdims = True"
      ]
    },
    {
      "cell_type": "code",
      "execution_count": 51,
      "metadata": {
        "id": "xRN8O_FuOfhd",
        "outputId": "ae0b8b9c-493e-4ea7-88b1-d4a48f34c87c",
        "colab": {
          "base_uri": "https://localhost:8080/"
        }
      },
      "outputs": [
        {
          "output_type": "execute_result",
          "data": {
            "text/plain": [
              "<tf.Tensor: shape=(1, 2), dtype=float32, numpy=array([[4.5, 5.5]], dtype=float32)>"
            ]
          },
          "metadata": {},
          "execution_count": 51
        }
      ],
      "source": [
        "tf.reduce_mean(input_tensor=numbers, axis=0, keepdims=True) #the reduced axis is retained with a length of 1"
      ]
    },
    {
      "cell_type": "markdown",
      "metadata": {
        "id": "XGPa5GdMOfhg"
      },
      "source": [
        "#### Calculate the mean across rows (reduce columns) with this:"
      ]
    },
    {
      "cell_type": "code",
      "execution_count": 52,
      "metadata": {
        "id": "ZG87HJdvOfhl",
        "outputId": "14bc7932-4f69-4dd8-932e-55a77dbccb06",
        "colab": {
          "base_uri": "https://localhost:8080/"
        }
      },
      "outputs": [
        {
          "output_type": "execute_result",
          "data": {
            "text/plain": [
              "<tf.Tensor: shape=(2,), dtype=float32, numpy=array([8.5, 1.5], dtype=float32)>"
            ]
          },
          "metadata": {},
          "execution_count": 52
        }
      ],
      "source": [
        "tf.reduce_mean(input_tensor=numbers, axis=1)"
      ]
    },
    {
      "cell_type": "markdown",
      "metadata": {
        "id": "_IHpDbwTOfhr"
      },
      "source": [
        "#### When keepdims= True"
      ]
    },
    {
      "cell_type": "code",
      "execution_count": 53,
      "metadata": {
        "id": "QAlMDlXXOfhu",
        "outputId": "2697965c-2c8f-473c-ec93-d042246381a5",
        "colab": {
          "base_uri": "https://localhost:8080/"
        }
      },
      "outputs": [
        {
          "output_type": "execute_result",
          "data": {
            "text/plain": [
              "<tf.Tensor: shape=(2, 1), dtype=float32, numpy=\n",
              "array([[8.5],\n",
              "       [1.5]], dtype=float32)>"
            ]
          },
          "metadata": {},
          "execution_count": 53
        }
      ],
      "source": [
        "tf.reduce_mean(input_tensor=numbers, axis=1, keepdims=True) #the reduced axis is retained with a length of 1"
      ]
    },
    {
      "cell_type": "markdown",
      "metadata": {
        "id": "gE0Y2h8zOfhy"
      },
      "source": [
        "####  Random values generation"
      ]
    },
    {
      "cell_type": "markdown",
      "metadata": {
        "id": "dKuRHNqNOfh0"
      },
      "source": [
        "##### tf.random.normal()\n",
        "\n",
        ">tf.random.normal() outputs a tensor of the given shape filled with values of the dtype type from a normal distribution.\n",
        "\n",
        ">The function is as follows:\n",
        "    \n",
        "`tf.random.normal(shape, mean = 0, stddev =2, dtype=tf.float32, seed=None, name=None)`"
      ]
    },
    {
      "cell_type": "code",
      "execution_count": 54,
      "metadata": {
        "id": "DoqDUjZDOfh1",
        "outputId": "de97fe98-f862-4c18-9ec3-b83fccfbdbd3",
        "colab": {
          "base_uri": "https://localhost:8080/"
        }
      },
      "outputs": [
        {
          "output_type": "stream",
          "name": "stdout",
          "text": [
            "tf.Tensor(\n",
            "[[ 8.193186  9.814586]\n",
            " [12.509546 10.656453]\n",
            " [ 9.270586 13.391436]], shape=(3, 2), dtype=float32)\n"
          ]
        }
      ],
      "source": [
        "tf.random.normal(shape = (3,2), mean=10, stddev=2, dtype=tf.float32, seed=None, name=None)\n",
        "randon_num = tf.random.normal(shape = (3,2), mean=10.0, stddev=2.0)\n",
        "print(randon_num)"
      ]
    },
    {
      "cell_type": "markdown",
      "metadata": {
        "id": "tmsjh_SxOfiC"
      },
      "source": [
        "####  tf.random.uniform()"
      ]
    },
    {
      "cell_type": "markdown",
      "metadata": {
        "id": "72dCgi-YOfiF"
      },
      "source": [
        ">The function is this:\n",
        "    \n",
        ">tf.random.uniform(shape, minval = 0, maxval= None, dtype=tf.float32, seed=None, name=None)"
      ]
    },
    {
      "cell_type": "markdown",
      "metadata": {
        "id": "bRtp5k7BOfiI"
      },
      "source": [
        "`This outputs a tensor of the given shape filled with values from a uniform distribution in the range minval to maxval, where the lower bound is inclusive but the upper bound isn't.\n",
        "\n",
        "Example:`"
      ]
    },
    {
      "cell_type": "code",
      "execution_count": 55,
      "metadata": {
        "id": "XnDe2EAQOfiT",
        "outputId": "31bc9a25-f5fb-46a0-8104-d0d972c0c5a4",
        "colab": {
          "base_uri": "https://localhost:8080/"
        }
      },
      "outputs": [
        {
          "output_type": "execute_result",
          "data": {
            "text/plain": [
              "<tf.Tensor: shape=(2, 4), dtype=float32, numpy=\n",
              "array([[0.33635283, 0.7145159 , 0.81271386, 0.43794334],\n",
              "       [0.04875088, 0.4154415 , 0.848294  , 0.3638115 ]], dtype=float32)>"
            ]
          },
          "metadata": {},
          "execution_count": 55
        }
      ],
      "source": [
        "tf.random.uniform(shape = (2,4), minval=0, maxval=None, dtype=tf.float32, seed=None, name=None)"
      ]
    },
    {
      "cell_type": "markdown",
      "metadata": {
        "id": "sCfGr-LLOfiZ"
      },
      "source": [
        "#### Setting the seed"
      ]
    },
    {
      "cell_type": "code",
      "execution_count": 56,
      "metadata": {
        "id": "dJ86f9qyOfig",
        "outputId": "9572cc70-4bf4-4d58-e0b8-c8fa1dfa4868",
        "colab": {
          "base_uri": "https://localhost:8080/"
        }
      },
      "outputs": [
        {
          "output_type": "stream",
          "name": "stdout",
          "text": [
            "tf.Tensor(\n",
            "[[2 2]\n",
            " [6 2]], shape=(2, 2), dtype=int32)\n",
            "tf.Tensor(\n",
            "[[8 2]\n",
            " [2 2]], shape=(2, 2), dtype=int32)\n"
          ]
        }
      ],
      "source": [
        "tf.random.set_seed(12)\n",
        "random_num1 = tf.random.uniform(shape = (2,2), maxval=10, dtype = tf.int32)\n",
        "random_num2 = tf.random.uniform(shape = (2,2), maxval=10, dtype = tf.int32)\n",
        "print(random_num1) #Call 1\n",
        "print(random_num2)"
      ]
    },
    {
      "cell_type": "code",
      "execution_count": 57,
      "metadata": {
        "id": "tZuuheqzOfii",
        "outputId": "be288d19-540f-4058-a0d2-ca89d8f88eb8",
        "colab": {
          "base_uri": "https://localhost:8080/"
        }
      },
      "outputs": [
        {
          "output_type": "stream",
          "name": "stdout",
          "text": [
            "tf.Tensor(\n",
            "[[4 6]\n",
            " [5 2]], shape=(2, 2), dtype=int32)\n",
            "tf.Tensor(\n",
            "[[9 7]\n",
            " [9 4]], shape=(2, 2), dtype=int32)\n"
          ]
        }
      ],
      "source": [
        "tf.random.set_seed(11) #same seed\n",
        "random_num1 = tf.random.uniform(shape = (2,2), maxval=10, dtype = tf.int32)\n",
        "random_num2 = tf.random.uniform(shape = (2,2), maxval=10, dtype = tf.int32)\n",
        "print(random_num1) #Call 2\n",
        "print(random_num2)"
      ]
    },
    {
      "cell_type": "markdown",
      "metadata": {
        "id": "qQu-uCs4Ofim"
      },
      "source": [
        "#### Practical example of Random values using Dices"
      ]
    },
    {
      "cell_type": "code",
      "execution_count": 58,
      "metadata": {
        "id": "7cj5eSHyOfio",
        "outputId": "40f81c83-963c-4886-aa3b-acdacfafa239",
        "colab": {
          "base_uri": "https://localhost:8080/"
        }
      },
      "outputs": [
        {
          "output_type": "stream",
          "name": "stdout",
          "text": [
            "tf.Tensor(\n",
            "[[ 5  5 10]\n",
            " [ 4  3  7]\n",
            " [ 5  3  8]\n",
            " [ 3  3  6]\n",
            " [ 1  4  5]\n",
            " [ 4  1  5]\n",
            " [ 5  1  6]\n",
            " [ 6  4 10]\n",
            " [ 3  3  6]\n",
            " [ 2  3  5]], shape=(10, 3), dtype=int32)\n"
          ]
        }
      ],
      "source": [
        "dice11 = tf.Variable(tf.random.uniform([10, 1], minval=1, maxval=7, dtype=tf.int32))\n",
        "dice12 = tf.Variable(tf.random.uniform([10, 1], minval=1, maxval=7, dtype=tf.int32))\n",
        "\n",
        "# lets ADD\n",
        "dice_sum1 = dice11 + dice12\n",
        "# We've got three separate 10x1 matrices. To produce a single 10x3 matrix, we'll concatenate them along dimension 1.\n",
        "finale_matrix = tf.concat(values=[dice11, dice12, dice_sum1], axis=1)\n",
        "print(finale_matrix)"
      ]
    },
    {
      "cell_type": "markdown",
      "metadata": {
        "id": "Y4UNE-cOOfiv"
      },
      "source": [
        "#### Finding the indices of the largest and smallest element"
      ]
    },
    {
      "cell_type": "markdown",
      "metadata": {
        "id": "1naWvG6ZOfiz"
      },
      "source": [
        ">The following functions are available:\n",
        "    \n",
        ">`tf.argmax(input, axis=None, name=None, output_type=tf.int64 )`\n",
        "\n",
        ">`tf.argmin(input, axis=None, name=None, output_type=tf.int64 )`"
      ]
    },
    {
      "cell_type": "code",
      "execution_count": 59,
      "metadata": {
        "id": "acgKwhpxOfi1",
        "outputId": "d189e73c-56a3-4289-ab6e-83b6034223f0",
        "colab": {
          "base_uri": "https://localhost:8080/"
        }
      },
      "outputs": [
        {
          "output_type": "stream",
          "name": "stdout",
          "text": [
            "tf.Tensor([ 12  11  51  42   6  16  -8 -19  31], shape=(9,), dtype=int32)\n",
            "index of max;  tf.Tensor(2, shape=(), dtype=int64)\n",
            "Max element:  51\n",
            "index of min:  7\n",
            "Min element:  -19\n"
          ]
        }
      ],
      "source": [
        "# 1-D tensor\n",
        "tensor_1d = tf.constant([12, 11, 51, 42, 6, 16, -8, -19, 31])\n",
        "print(tensor_1d)\n",
        "\n",
        "\n",
        "i = tf.argmax(input=tensor_1d)\n",
        "print('index of max; ', i)\n",
        "print('Max element: ',tensor_1d[i].numpy())\n",
        "\n",
        "\n",
        "i = tf.argmin(input=tensor_1d,axis=0).numpy()\n",
        "print('index of min: ', i)\n",
        "print('Min element: ',tensor_1d[i].numpy())"
      ]
    },
    {
      "cell_type": "markdown",
      "metadata": {
        "id": "-dbxhtvmOfjI"
      },
      "source": [
        "#### Saving and restoring using a checkpoint"
      ]
    },
    {
      "cell_type": "code",
      "execution_count": 60,
      "metadata": {
        "id": "7wyMFBaWOfjL",
        "outputId": "7c643bc3-d77b-499b-a29c-fc4162d1d6f5",
        "colab": {
          "base_uri": "https://localhost:8080/"
        }
      },
      "outputs": [
        {
          "output_type": "stream",
          "name": "stdout",
          "text": [
            "<tf.Variable 'Variable:0' shape=(2, 4) dtype=int32, numpy=\n",
            "array([[ 5,  6,  9,  3],\n",
            "       [14, 15, 16, 18]], dtype=int32)>\n"
          ]
        }
      ],
      "source": [
        "variable1 = tf.Variable([[5,6,9,3],[14,15,16,18]])\n",
        "checkpoint= tf.train.Checkpoint(var=variable1)\n",
        "savepath = checkpoint.save('./vars')\n",
        "variable1.assign([[0,0,0,0],[0,0,0,0]])\n",
        "variable1\n",
        "checkpoint.restore(savepath)\n",
        "print(variable1)"
      ]
    },
    {
      "cell_type": "markdown",
      "metadata": {
        "id": "94IHvdsyOfjQ"
      },
      "source": [
        "#### Using tf.function\n",
        "\n",
        "`tf.function is a function that will take a Python function and return a TensorFlow graph. The advantage of this is that graphs can apply optimizations and exploit parallelism in the Python function (func). tf.function is new to TensorFlow 2.`\n"
      ]
    },
    {
      "cell_type": "markdown",
      "metadata": {
        "id": "ykl-WBvhOfjT"
      },
      "source": [
        ">Its function is as follows:\n",
        "    \n",
        "`tf.function(\n",
        "func=None,input_signature=None,autograph=True,experimental_autograph_options=None\n",
        ")`\n"
      ]
    },
    {
      "cell_type": "code",
      "source": [
        "def f1(x, y):\n",
        "    return tf.reduce_mean(input_tensor=tf.multiply(x ** 3, 6) + y**3)"
      ],
      "metadata": {
        "id": "AJG8tK48Ihh0"
      },
      "execution_count": 61,
      "outputs": []
    },
    {
      "cell_type": "code",
      "source": [
        "f1(4,5)"
      ],
      "metadata": {
        "colab": {
          "base_uri": "https://localhost:8080/"
        },
        "id": "u0YA9wGeIin2",
        "outputId": "aeb750d0-b146-45ee-e09d-2d8672f14684"
      },
      "execution_count": 62,
      "outputs": [
        {
          "output_type": "execute_result",
          "data": {
            "text/plain": [
              "<tf.Tensor: shape=(), dtype=int32, numpy=509>"
            ]
          },
          "metadata": {},
          "execution_count": 62
        }
      ]
    },
    {
      "cell_type": "code",
      "execution_count": 63,
      "metadata": {
        "id": "IAGUH_-2OfjU"
      },
      "outputs": [],
      "source": [
        "def f1(x, y):\n",
        "    return tf.reduce_mean(input_tensor=tf.multiply(x ** 3, 6) + y**3)\n",
        "func = tf.function(f1)\n",
        "x = tf.constant([3., -4.])\n",
        "y = tf.constant([1., 4.])\n",
        "# f1 and f2 return the same value, but f2 executes as a TensorFlow graph\n",
        "assert f1(x,y).numpy() == func(x,y).numpy()\n",
        "#The assert passes, so there is no output"
      ]
    },
    {
      "cell_type": "markdown",
      "metadata": {
        "id": "C_heF2IXOfj2"
      },
      "source": [
        "## Calculate the gradient"
      ]
    },
    {
      "cell_type": "markdown",
      "metadata": {
        "id": "r8q35Rd7Ofj3"
      },
      "source": [
        "### GradientTape"
      ]
    },
    {
      "cell_type": "markdown",
      "metadata": {
        "id": "_YvSb7IoOfkB"
      },
      "source": [
        ">Another difference from numpy is that it can automatically track the gradient of any variable.\n",
        "\n",
        ">Open one GradientTape and `tape.watch()` track variables through"
      ]
    },
    {
      "cell_type": "code",
      "execution_count": 67,
      "metadata": {
        "id": "uol5huhgOfkD",
        "outputId": "315517e1-529a-45b8-ca20-32ea6b31923b",
        "colab": {
          "base_uri": "https://localhost:8080/"
        }
      },
      "outputs": [
        {
          "output_type": "stream",
          "name": "stdout",
          "text": [
            "tf.Tensor(\n",
            "[[1.6877743  0.97699326]\n",
            " [0.8071818  0.70809734]], shape=(2, 2), dtype=float32)\n",
            "tf.Tensor(\n",
            "[[-0.16842037 -0.5020665 ]\n",
            " [ 0.9471321   0.589817  ]], shape=(2, 2), dtype=float32)\n"
          ]
        }
      ],
      "source": [
        "a = tf.random.normal(shape=(2,2))\n",
        "b = tf.random.normal(shape=(2,2))\n",
        "with tf.GradientTape() as tape:\n",
        "    tape.watch(a)\n",
        "    c = tf.sqrt(tf.square(a)+tf.square(b))\n",
        "    print(c)\n",
        "    dc_da = tape.gradient(c,a)\n",
        "    print(dc_da)"
      ]
    },
    {
      "cell_type": "code",
      "source": [
        "a"
      ],
      "metadata": {
        "colab": {
          "base_uri": "https://localhost:8080/"
        },
        "id": "P3Ck99cnLYbr",
        "outputId": "1553672b-434f-4d5a-b787-39973a3b8e9d"
      },
      "execution_count": 68,
      "outputs": [
        {
          "output_type": "execute_result",
          "data": {
            "text/plain": [
              "<tf.Tensor: shape=(2, 2), dtype=float32, numpy=\n",
              "array([[-0.2842556 , -0.4905156 ],\n",
              "       [ 0.7645078 ,  0.41764784]], dtype=float32)>"
            ]
          },
          "metadata": {},
          "execution_count": 68
        }
      ]
    },
    {
      "cell_type": "code",
      "source": [
        "b"
      ],
      "metadata": {
        "colab": {
          "base_uri": "https://localhost:8080/"
        },
        "id": "9WeqwbfpLZ-l",
        "outputId": "91593419-a7e4-49d3-aa16-4d5f11d58a40"
      },
      "execution_count": 69,
      "outputs": [
        {
          "output_type": "execute_result",
          "data": {
            "text/plain": [
              "<tf.Tensor: shape=(2, 2), dtype=float32, numpy=\n",
              "array([[ 1.6636649 ,  0.84493214],\n",
              "       [ 0.25897932, -0.57181484]], dtype=float32)>"
            ]
          },
          "metadata": {},
          "execution_count": 69
        }
      ]
    },
    {
      "cell_type": "markdown",
      "metadata": {
        "id": "BrLuYmLBOfkF"
      },
      "source": [
        ">For all variables, the calculation is tracked by default and used to find the gradient, so do not `usetape.watch()`"
      ]
    },
    {
      "cell_type": "code",
      "execution_count": 70,
      "metadata": {
        "id": "P_ssUPwdOfkI",
        "outputId": "f0a2894e-b872-4f70-f829-4c34ca824ef4",
        "colab": {
          "base_uri": "https://localhost:8080/"
        }
      },
      "outputs": [
        {
          "output_type": "stream",
          "name": "stdout",
          "text": [
            "tf.Tensor(\n",
            "[[-0.16842037 -0.5020665 ]\n",
            " [ 0.9471321   0.589817  ]], shape=(2, 2), dtype=float32)\n"
          ]
        }
      ],
      "source": [
        "a = tf.Variable(a)\n",
        "with tf.GradientTape() as tape:\n",
        "    c = tf.sqrt(tf.square(a)+tf.square(b))\n",
        "    dc_da = tape.gradient(c,a)\n",
        "    print(dc_da)"
      ]
    },
    {
      "cell_type": "markdown",
      "metadata": {
        "id": "w8YOtA4NOfkJ"
      },
      "source": [
        "> You can GradientTapefind higher-order derivatives by opening a few more:"
      ]
    },
    {
      "cell_type": "code",
      "execution_count": null,
      "metadata": {
        "id": "MX1lCy34OfkK",
        "outputId": "2ead089a-4785-49f5-a60b-76e565e535f3"
      },
      "outputs": [
        {
          "name": "stdout",
          "output_type": "stream",
          "text": [
            "tf.Tensor(\n",
            "[[0.4264985  0.6867533 ]\n",
            " [0.44663432 0.5015956 ]], shape=(2, 2), dtype=float32)\n"
          ]
        }
      ],
      "source": [
        "with tf.GradientTape() as outer_tape:\n",
        "    with tf.GradientTape() as tape:\n",
        "        c = tf.sqrt(tf.square(a)+tf.square(b))\n",
        "        dc_da = tape.gradient(c,a)\n",
        "    d2c_d2a = outer_tape.gradient(dc_da,a)\n",
        "    print(d2c_d2a)"
      ]
    },
    {
      "cell_type": "markdown",
      "metadata": {
        "id": "hISOD6bBOfkM"
      },
      "source": [
        "# Keras, a High-Level API for TensorFlow 2"
      ]
    },
    {
      "cell_type": "markdown",
      "metadata": {
        "id": "20GP72U9OfkO"
      },
      "source": [
        "![title](img/keras.png)"
      ]
    },
    {
      "cell_type": "markdown",
      "metadata": {
        "id": "GEfUGFgTOfkO"
      },
      "source": [
        "## The Keras Sequential model\n",
        "\n",
        "`To build a Keras Sequential model, you add layers to it in the same order that you want the computations to be undertaken by the network.`\n",
        "\n",
        "`After you have built your model, you compile it; this optimizes the computations that are to be undertaken, and is where you allocate the optimizer and the loss function you want your model to use.`\n",
        "\n",
        "`The next stage is to fit the model to the data. This is commonly known as training the model, and is where all the computations take place. It is possible to present the data to the model either in batches, or all at once.`\n",
        "\n",
        "`Next, you evaluate your model to establish its accuracy, loss, and other metrics. Finally, having trained your model, you can use it to make predictions on new data. So, the workflow is: build, compile, fit, evaluate, make predictions.`\n",
        "\n",
        "`There are two ways to create a Sequential model. Let's take a look at each of them.`"
      ]
    },
    {
      "cell_type": "markdown",
      "metadata": {
        "id": "cJ-fDpA6OfkQ"
      },
      "source": [
        "![title](img/kerasmodelling.png)"
      ]
    },
    {
      "cell_type": "markdown",
      "metadata": {
        "id": "TYPEfBIJOfkU"
      },
      "source": [
        "### Using Sequential model\n",
        "\n",
        "`Firstly, you can pass a list of layer instances to the constructor, as in the following example.For now, we will just explain enough to allow you to understand what is happening here.`\n",
        "\n",
        "`Acquire the data. MNIST is a dataset of hand-drawn numerals, each on a 28 x 28 pixel grid. Every individual data point is an unsigned 8-bit integer (uint8), as are the labels:`"
      ]
    },
    {
      "cell_type": "markdown",
      "metadata": {
        "id": "Pt-hSjPCOfkV"
      },
      "source": [
        "#### Loading the datset"
      ]
    },
    {
      "cell_type": "code",
      "execution_count": 71,
      "metadata": {
        "id": "fjIj-xH6OfkW",
        "outputId": "03c337be-20e8-40f6-a592-57cbfb1bdded",
        "colab": {
          "base_uri": "https://localhost:8080/"
        }
      },
      "outputs": [
        {
          "output_type": "stream",
          "name": "stdout",
          "text": [
            "Downloading data from https://storage.googleapis.com/tensorflow/tf-keras-datasets/mnist.npz\n",
            "11490434/11490434 [==============================] - 2s 0us/step\n"
          ]
        }
      ],
      "source": [
        "mnist_data = tf.keras.datasets.mnist\n",
        "(train_x,train_y), (test_x, test_y) = mnist_data.load_data()"
      ]
    },
    {
      "cell_type": "markdown",
      "metadata": {
        "id": "GNhkE9zPOfkX"
      },
      "source": [
        "#### Definning the variables"
      ]
    },
    {
      "cell_type": "code",
      "execution_count": 72,
      "metadata": {
        "id": "6CfKACY7OfkZ"
      },
      "outputs": [],
      "source": [
        "epochs=10\n",
        "batch_size = 32"
      ]
    },
    {
      "cell_type": "code",
      "execution_count": 73,
      "metadata": {
        "id": "NkOZNMOZOfkZ"
      },
      "outputs": [],
      "source": [
        "# normalize all the data points and cast the labels to int64\n",
        "train_x, test_x = tf.cast(train_x/255.0, tf.float32), tf.cast(test_x/255.0, tf.float32)\n",
        "train_y, test_y = tf.cast(train_y,tf.int64),tf.cast(test_y,tf.int64)"
      ]
    },
    {
      "cell_type": "markdown",
      "metadata": {
        "id": "zRd7G4q8Ofka"
      },
      "source": [
        "#### Building the Architecture "
      ]
    },
    {
      "cell_type": "code",
      "execution_count": 74,
      "metadata": {
        "id": "3mzk_nHOOfkb"
      },
      "outputs": [],
      "source": [
        "mnistmodel1 = tf.keras.models.Sequential([\n",
        "tf.keras.layers.Flatten(),\n",
        "tf.keras.layers.Dense(512,activation=tf.nn.relu),\n",
        "tf.keras.layers.Dropout(0.2),\n",
        "tf.keras.layers.Dense(10,activation=tf.nn.softmax)\n",
        "])\n"
      ]
    },
    {
      "cell_type": "markdown",
      "metadata": {
        "id": "4uKinqhaOfkp"
      },
      "source": [
        "#### Compiling the model"
      ]
    },
    {
      "cell_type": "code",
      "execution_count": 75,
      "metadata": {
        "id": "JJx9jJfWOfkq"
      },
      "outputs": [],
      "source": [
        "optimiser = tf.keras.optimizers.Adam()\n",
        "mnistmodel1.compile (optimizer= optimiser, loss='sparse_categorical_crossentropy', metrics = ['accuracy'])"
      ]
    },
    {
      "cell_type": "markdown",
      "metadata": {
        "id": "gxwVf1UXOfkr"
      },
      "source": [
        "#### Fitting the model"
      ]
    },
    {
      "cell_type": "code",
      "execution_count": 76,
      "metadata": {
        "id": "-ILCFdSpOfkr",
        "outputId": "5d14d35c-c52a-4f34-c0e0-01f5457bd921",
        "colab": {
          "base_uri": "https://localhost:8080/"
        }
      },
      "outputs": [
        {
          "output_type": "stream",
          "name": "stdout",
          "text": [
            "Epoch 1/5\n",
            "1875/1875 [==============================] - 9s 2ms/step - loss: 0.2178 - accuracy: 0.9355\n",
            "Epoch 2/5\n",
            "1875/1875 [==============================] - 5s 3ms/step - loss: 0.0952 - accuracy: 0.9713\n",
            "Epoch 3/5\n",
            "1875/1875 [==============================] - 5s 2ms/step - loss: 0.0681 - accuracy: 0.9791\n",
            "Epoch 4/5\n",
            "1875/1875 [==============================] - 5s 2ms/step - loss: 0.0529 - accuracy: 0.9827\n",
            "Epoch 5/5\n",
            "1875/1875 [==============================] - 5s 3ms/step - loss: 0.0448 - accuracy: 0.9854\n"
          ]
        },
        {
          "output_type": "execute_result",
          "data": {
            "text/plain": [
              "<keras.callbacks.History at 0x7f3dfbc8d8b0>"
            ]
          },
          "metadata": {},
          "execution_count": 76
        }
      ],
      "source": [
        "mnistmodel1.fit(train_x, train_y, batch_size=32, epochs=5)"
      ]
    },
    {
      "cell_type": "markdown",
      "metadata": {
        "id": "sjlkyTWTOfkt"
      },
      "source": [
        "#### Evaluate the mnistmodel1"
      ]
    },
    {
      "cell_type": "code",
      "execution_count": 77,
      "metadata": {
        "id": "V_ilDQdHOfkv",
        "outputId": "831787f3-1713-4d40-84ba-896785b1b474",
        "colab": {
          "base_uri": "https://localhost:8080/"
        }
      },
      "outputs": [
        {
          "output_type": "stream",
          "name": "stdout",
          "text": [
            "313/313 [==============================] - 1s 2ms/step - loss: 0.0646 - accuracy: 0.9815\n"
          ]
        },
        {
          "output_type": "execute_result",
          "data": {
            "text/plain": [
              "[0.06456564366817474, 0.9815000295639038]"
            ]
          },
          "metadata": {},
          "execution_count": 77
        }
      ],
      "source": [
        "mnistmodel1.evaluate(test_x, test_y)"
      ]
    },
    {
      "cell_type": "markdown",
      "metadata": {
        "id": "a8z6g3f0Ofk2"
      },
      "source": [
        ">This represents a loss of 0.06 and an accuracy of 0.9815 on the test data. \n",
        "\n",
        ">An accuracy of 0.98 means that out of 100 test data points, 98 were, on average, correctly identified by the model."
      ]
    },
    {
      "cell_type": "markdown",
      "source": [
        "The second way to create a Sequential model\n",
        "The alternative to passing a list of layers to the Sequential model's constructor is to use the add method, as follows, for the same architecture:\n"
      ],
      "metadata": {
        "id": "jSG3QgF0Wg7e"
      }
    },
    {
      "cell_type": "markdown",
      "metadata": {
        "id": "TW-VDCqVOfk4"
      },
      "source": [
        "#### Building the Architecture & Compiling"
      ]
    },
    {
      "cell_type": "code",
      "execution_count": 78,
      "metadata": {
        "id": "lY23DswTOfk6"
      },
      "outputs": [],
      "source": [
        "mnistmodel2 = tf.keras.models.Sequential();\n",
        "mnistmodel2.add(tf.keras.layers.Flatten())\n",
        "mnistmodel2.add(tf.keras.layers.Dense(512, activation='relu'))\n",
        "mnistmodel2.add(tf.keras.layers.Dropout(0.2))\n",
        "mnistmodel2.add(tf.keras.layers.Dense(10,activation=tf.nn.softmax))\n",
        "mnistmodel2.compile (optimizer= tf.keras.optimizers.Adam(), loss='sparse_categorical_crossentropy',metrics = ['accuracy'])"
      ]
    },
    {
      "cell_type": "markdown",
      "metadata": {
        "id": "0ZkhatLCOfk8"
      },
      "source": [
        "#### Fitting the mnistmodel2"
      ]
    },
    {
      "cell_type": "code",
      "execution_count": 79,
      "metadata": {
        "id": "232wI7WuOfk-",
        "outputId": "1841e6a9-5bca-4061-9558-bde5f6693920",
        "colab": {
          "base_uri": "https://localhost:8080/"
        }
      },
      "outputs": [
        {
          "output_type": "stream",
          "name": "stdout",
          "text": [
            "Epoch 1/5\n",
            "938/938 [==============================] - 4s 3ms/step - loss: 0.2442 - accuracy: 0.9294\n",
            "Epoch 2/5\n",
            "938/938 [==============================] - 4s 4ms/step - loss: 0.1047 - accuracy: 0.9679\n",
            "Epoch 3/5\n",
            "938/938 [==============================] - 3s 3ms/step - loss: 0.0730 - accuracy: 0.9773\n",
            "Epoch 4/5\n",
            "938/938 [==============================] - 3s 3ms/step - loss: 0.0545 - accuracy: 0.9830\n",
            "Epoch 5/5\n",
            "938/938 [==============================] - 3s 3ms/step - loss: 0.0437 - accuracy: 0.9861\n"
          ]
        },
        {
          "output_type": "execute_result",
          "data": {
            "text/plain": [
              "<keras.callbacks.History at 0x7f3dfd7eb310>"
            ]
          },
          "metadata": {},
          "execution_count": 79
        }
      ],
      "source": [
        "mnistmodel2.fit(train_x, train_y, batch_size=64, epochs=5)"
      ]
    },
    {
      "cell_type": "markdown",
      "metadata": {
        "id": "MSPsnD1cOflA"
      },
      "source": [
        "#### Evaluate the mnistmodel2"
      ]
    },
    {
      "cell_type": "code",
      "execution_count": 80,
      "metadata": {
        "id": "L1twffiZOflH",
        "outputId": "8cc826fa-9877-445c-d3c9-78b662d60b2a",
        "colab": {
          "base_uri": "https://localhost:8080/"
        }
      },
      "outputs": [
        {
          "output_type": "stream",
          "name": "stdout",
          "text": [
            "313/313 [==============================] - 1s 2ms/step - loss: 0.0623 - accuracy: 0.9799\n"
          ]
        },
        {
          "output_type": "execute_result",
          "data": {
            "text/plain": [
              "[0.0622500441968441, 0.9799000024795532]"
            ]
          },
          "metadata": {},
          "execution_count": 80
        }
      ],
      "source": [
        "mnistmodel2.evaluate(test_x, test_y)"
      ]
    },
    {
      "cell_type": "markdown",
      "metadata": {
        "id": "hFcd9jK3OflJ"
      },
      "source": [
        "![title](img/kerasmodelling2.png)"
      ]
    },
    {
      "cell_type": "markdown",
      "metadata": {
        "id": "vbirLGeFOflU"
      },
      "source": [
        "### Keras functional API\n",
        "\n",
        "`The functional API lets you build much more complex architectures than the simple linear stack of Sequential models we have seen previously. It also supports more advanced models. These models include multi-input and multi-output models, models with shared layers, and models with residual connections.`"
      ]
    },
    {
      "cell_type": "code",
      "execution_count": 81,
      "metadata": {
        "id": "2UPd0LmUOflb"
      },
      "outputs": [],
      "source": [
        "import tensorflow as tf\n",
        "mnist = tf.keras.datasets.mnist\n",
        "(train_x,train_y), (test_x, test_y) = mnist.load_data()\n",
        "train_x, test_x = train_x/255.0, test_x/255.0\n",
        "epochs=10\n"
      ]
    },
    {
      "cell_type": "markdown",
      "metadata": {
        "id": "40m7vjKGOflc"
      },
      "source": [
        "#### Building the Architecture"
      ]
    },
    {
      "cell_type": "code",
      "execution_count": 82,
      "metadata": {
        "id": "z7V8ddrOOflx"
      },
      "outputs": [],
      "source": [
        "inputs = tf.keras.Input(shape=(28,28)) # Returns a 'placeholder' tensor\n",
        "x = tf.keras.layers.Flatten()(inputs)\n",
        "x = tf.keras.layers.Dense(512, activation='relu',name='d1')(x)\n",
        "x = tf.keras.layers.Dropout(0.2)(x)\n",
        "predictions = tf.keras.layers.Dense(10,activation=tf.nn.softmax, name='d2')(x)\n",
        "mnistmodel3 = tf.keras.Model(inputs=inputs, outputs=predictions)"
      ]
    },
    {
      "cell_type": "markdown",
      "metadata": {
        "id": "p0BU-ggsOfmK"
      },
      "source": [
        "#### Compile & Fit"
      ]
    },
    {
      "cell_type": "code",
      "execution_count": 83,
      "metadata": {
        "id": "8IrGurAbOfmN",
        "outputId": "10292ef1-323a-4a55-dc79-9ef00e9979fc",
        "colab": {
          "base_uri": "https://localhost:8080/"
        }
      },
      "outputs": [
        {
          "output_type": "stream",
          "name": "stdout",
          "text": [
            "Epoch 1/10\n",
            "1875/1875 [==============================] - 6s 3ms/step - loss: 0.2203 - accuracy: 0.9344\n",
            "Epoch 2/10\n",
            "1875/1875 [==============================] - 5s 3ms/step - loss: 0.0981 - accuracy: 0.9699\n",
            "Epoch 3/10\n",
            "1875/1875 [==============================] - 5s 3ms/step - loss: 0.0684 - accuracy: 0.9786\n",
            "Epoch 4/10\n",
            "1875/1875 [==============================] - 6s 3ms/step - loss: 0.0546 - accuracy: 0.9822\n",
            "Epoch 5/10\n",
            "1875/1875 [==============================] - 5s 3ms/step - loss: 0.0432 - accuracy: 0.9856\n",
            "Epoch 6/10\n",
            "1875/1875 [==============================] - 5s 3ms/step - loss: 0.0368 - accuracy: 0.9879\n",
            "Epoch 7/10\n",
            "1875/1875 [==============================] - 5s 3ms/step - loss: 0.0309 - accuracy: 0.9898\n",
            "Epoch 8/10\n",
            "1875/1875 [==============================] - 5s 3ms/step - loss: 0.0294 - accuracy: 0.9903\n",
            "Epoch 9/10\n",
            "1875/1875 [==============================] - 5s 3ms/step - loss: 0.0241 - accuracy: 0.9924\n",
            "Epoch 10/10\n",
            "1875/1875 [==============================] - 5s 3ms/step - loss: 0.0230 - accuracy: 0.9920\n"
          ]
        },
        {
          "output_type": "execute_result",
          "data": {
            "text/plain": [
              "<keras.callbacks.History at 0x7f3dfd6d1670>"
            ]
          },
          "metadata": {},
          "execution_count": 83
        }
      ],
      "source": [
        "optimiser = tf.keras.optimizers.Adam()\n",
        "mnistmodel3.compile (optimizer= optimiser, loss='sparse_categorical_crossentropy', metrics = ['accuracy'])\n",
        "mnistmodel3.fit(train_x, train_y, batch_size=32, epochs=epochs)"
      ]
    },
    {
      "cell_type": "markdown",
      "metadata": {
        "id": "1bHal63ROfmO"
      },
      "source": [
        "#### Evaluate the mnistmodel3"
      ]
    },
    {
      "cell_type": "code",
      "execution_count": 84,
      "metadata": {
        "id": "hw83TZNWOfmQ",
        "outputId": "9438ea6d-800e-47f4-909c-80d259d5bafa",
        "colab": {
          "base_uri": "https://localhost:8080/"
        }
      },
      "outputs": [
        {
          "output_type": "stream",
          "name": "stdout",
          "text": [
            "313/313 [==============================] - 1s 2ms/step - loss: 0.0823 - accuracy: 0.9791\n"
          ]
        },
        {
          "output_type": "execute_result",
          "data": {
            "text/plain": [
              "[0.08232200890779495, 0.9790999889373779]"
            ]
          },
          "metadata": {},
          "execution_count": 84
        }
      ],
      "source": [
        "mnistmodel3.evaluate(test_x, test_y)"
      ]
    },
    {
      "cell_type": "markdown",
      "metadata": {
        "id": "YKSD1oBSOfmR"
      },
      "source": [
        "### Subclassing the Keras Model class"
      ]
    },
    {
      "cell_type": "code",
      "execution_count": 85,
      "metadata": {
        "id": "gPw6Pe2FOfmY"
      },
      "outputs": [],
      "source": [
        "import tensorflow as tf"
      ]
    },
    {
      "cell_type": "markdown",
      "metadata": {
        "id": "57NMpKxvOfmh"
      },
      "source": [
        "#### Building the subclass architecture"
      ]
    },
    {
      "cell_type": "code",
      "execution_count": 86,
      "metadata": {
        "id": "hwKcbbMTOfm-"
      },
      "outputs": [],
      "source": [
        "class MNISTModel(tf.keras.Model):\n",
        "    def __init__(self, num_classes=10):\n",
        "        super(MNISTModel, self).__init__()\n",
        "        # Define your layers here.\n",
        "        inputs = tf.keras.Input(shape=(28,28)) # Returns a placeholder tensor\n",
        "        self.x0 = tf.keras.layers.Flatten()\n",
        "        self.x1 = tf.keras.layers.Dense(512, activation='relu',name='d1')\n",
        "        self.x2 = tf.keras.layers.Dropout(0.2)\n",
        "        self.predictions = tf.keras.layers.Dense(10,activation=tf.nn.softmax, name='d2')\n",
        "\n",
        "\n",
        "    def call(self, inputs):\n",
        "    # This is where to define your forward pass\n",
        "    # using the layers previously defined in `__init__`\n",
        "        x = self.x0(inputs)\n",
        "        x = self.x1(x)\n",
        "        x = self.x2(x)\n",
        "        return self.predictions(x)"
      ]
    },
    {
      "cell_type": "code",
      "execution_count": 87,
      "metadata": {
        "id": "C1c8XPPvOfnD"
      },
      "outputs": [],
      "source": [
        "mnistmodel4 = MNISTModel()"
      ]
    },
    {
      "cell_type": "markdown",
      "metadata": {
        "id": "QFAqX9_SOfnI"
      },
      "source": [
        "#### Compile & Fit"
      ]
    },
    {
      "cell_type": "code",
      "execution_count": 91,
      "metadata": {
        "id": "urjCiQ85OfnM",
        "outputId": "342fb428-497c-4177-d7a9-79a1116848b7",
        "colab": {
          "base_uri": "https://localhost:8080/"
        }
      },
      "outputs": [
        {
          "output_type": "stream",
          "name": "stdout",
          "text": [
            "1875\n",
            "Epoch 1/10\n",
            "1875/1875 [==============================] - 7s 3ms/step - loss: 0.2182 - accuracy: 0.9344\n",
            "Epoch 2/10\n",
            "1875/1875 [==============================] - 5s 3ms/step - loss: 0.0954 - accuracy: 0.9713\n",
            "Epoch 3/10\n",
            "1875/1875 [==============================] - 5s 3ms/step - loss: 0.0696 - accuracy: 0.9779\n",
            "Epoch 4/10\n",
            "1875/1875 [==============================] - 6s 3ms/step - loss: 0.0530 - accuracy: 0.9831\n",
            "Epoch 5/10\n",
            "1875/1875 [==============================] - 5s 3ms/step - loss: 0.0437 - accuracy: 0.9857\n",
            "Epoch 6/10\n",
            "1875/1875 [==============================] - 6s 3ms/step - loss: 0.0361 - accuracy: 0.9886\n",
            "Epoch 7/10\n",
            "1875/1875 [==============================] - 5s 3ms/step - loss: 0.0304 - accuracy: 0.9895\n",
            "Epoch 8/10\n",
            "1875/1875 [==============================] - 5s 3ms/step - loss: 0.0289 - accuracy: 0.9902\n",
            "Epoch 9/10\n",
            "1875/1875 [==============================] - 5s 3ms/step - loss: 0.0260 - accuracy: 0.9912\n",
            "Epoch 10/10\n",
            "1875/1875 [==============================] - 5s 3ms/step - loss: 0.0215 - accuracy: 0.9928\n"
          ]
        },
        {
          "output_type": "execute_result",
          "data": {
            "text/plain": [
              "<keras.callbacks.History at 0x7f3dfd4c8ac0>"
            ]
          },
          "metadata": {},
          "execution_count": 91
        }
      ],
      "source": [
        "import numpy as np\n",
        "\n",
        "batch_size = 32\n",
        "steps_per_epoch = len(train_x)//batch_size\n",
        "print(steps_per_epoch)\n",
        "mnistmodel4.compile (optimizer= tf.keras.optimizers.Adam(), loss='sparse_categorical_crossentropy',metrics = ['accuracy'])\n",
        "mnistmodel4.fit(train_x, train_y, batch_size=batch_size, epochs=epochs)"
      ]
    },
    {
      "cell_type": "markdown",
      "metadata": {
        "id": "hXPuj8_MOfnN"
      },
      "source": [
        "#### Evaluate the mnistmodel4"
      ]
    },
    {
      "cell_type": "code",
      "execution_count": 92,
      "metadata": {
        "id": "lQKqXqyyOfnO",
        "outputId": "02e39393-1fcb-4ee9-8b2e-45b7a2ef0131",
        "colab": {
          "base_uri": "https://localhost:8080/"
        }
      },
      "outputs": [
        {
          "output_type": "stream",
          "name": "stdout",
          "text": [
            "313/313 [==============================] - 1s 2ms/step - loss: 0.0682 - accuracy: 0.9831\n"
          ]
        },
        {
          "output_type": "execute_result",
          "data": {
            "text/plain": [
              "[0.06816127896308899, 0.9830999970436096]"
            ]
          },
          "metadata": {},
          "execution_count": 92
        }
      ],
      "source": [
        "mnistmodel4.evaluate(test_x, test_y)"
      ]
    },
    {
      "cell_type": "code",
      "execution_count": null,
      "metadata": {
        "id": "rNCzpDElOfnQ"
      },
      "outputs": [],
      "source": []
    }
  ],
  "metadata": {
    "kernelspec": {
      "display_name": "Python 3",
      "language": "python",
      "name": "python3"
    },
    "language_info": {
      "codemirror_mode": {
        "name": "ipython",
        "version": 3
      },
      "file_extension": ".py",
      "mimetype": "text/x-python",
      "name": "python",
      "nbconvert_exporter": "python",
      "pygments_lexer": "ipython3",
      "version": "3.6.9"
    },
    "colab": {
      "provenance": []
    },
    "accelerator": "GPU",
    "gpuClass": "standard"
  },
  "nbformat": 4,
  "nbformat_minor": 0
}